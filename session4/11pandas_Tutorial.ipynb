{
 "cells": [
  {
   "cell_type": "markdown",
   "metadata": {
    "id": "rtieU673kOiz",
    "slideshow": {
     "slide_type": "slide"
    }
   },
   "source": [
    "# An Introduction to Pandas\n",
    "\n",
    "*Attribution: based on [this tutorial](https://colab.research.google.com/drive/1a4sbKG7jOJGn4oeonQPA8XjJm7OYgcdX)*\n",
    "\n",
    "This notebook introduces the pandas library and, in a way, provides convenient shortcuts for the usage of numpy arrays or matplotlib (but is based around those)."
   ]
  },
  {
   "cell_type": "markdown",
   "metadata": {
    "id": "YzJwx49KE-m3",
    "slideshow": {
     "slide_type": "slide"
    }
   },
   "source": [
    "## Basic Pandas Concepts\n",
    "\n",
    "Some very basic Pandas and python concepts to get started"
   ]
  },
  {
   "cell_type": "markdown",
   "metadata": {
    "id": "99XDq7k-kOi0",
    "slideshow": {
     "slide_type": "subslide"
    }
   },
   "source": [
    "#### Import the pandas package"
   ]
  },
  {
   "cell_type": "code",
   "execution_count": null,
   "metadata": {
    "id": "fLkGn4D9kOi1",
    "slideshow": {
     "slide_type": "subslide"
    }
   },
   "outputs": [],
   "source": [
    "import pandas as pd\n",
    "import matplotlib.pyplot as plt"
   ]
  },
  {
   "cell_type": "markdown",
   "metadata": {
    "id": "NB9RgekNkOi5",
    "slideshow": {
     "slide_type": "subslide"
    }
   },
   "source": [
    "#### Create a simple DataFrame\n",
    "\n",
    "- syntax: pd.DataFrame({column1 : value1, column2 : value2, column3 : value3})\n",
    "\n",
    "You can have anything as column names and anything as values.\n",
    "\n",
    "The only requirement is to have all value lists being of equal length (all are of length 3 in this example)\n",
    "\n",
    "There are many ways to create a data frame and you will see some more during the tutorial. All of them can be seen documented [here](https://pandas.pydata.org/pandas-docs/stable/generated/pandas.DataFrame.html)."
   ]
  },
  {
   "cell_type": "code",
   "execution_count": null,
   "metadata": {
    "id": "BoXrGzUlkOjG",
    "slideshow": {
     "slide_type": "subslide"
    }
   },
   "outputs": [],
   "source": [
    "df = pd.DataFrame({'name':['Bob','Jen','Tim'],\n",
    "                   'age':[20,30,40],\n",
    "                   'pet':['cat', 'dog', 'bird']},\n",
    "                 index=[5, 6, 8])  # default index is 0, 1, 2,..., usually not needed\n",
    "\n",
    "print(df)"
   ]
  },
  {
   "cell_type": "markdown",
   "metadata": {
    "id": "sIEf3y-zkOjL",
    "slideshow": {
     "slide_type": "subslide"
    }
   },
   "source": [
    "#### View the column names and index values\n",
    "\n",
    "The index is one of the most important concepts in pandas.\n",
    "\n",
    "Each dataframe has only a single index which is always available as `df.index` and if you do not supply one (as we did not for this dataframe) a new one is made automatically.\n",
    "\n",
    "Indexes define how to access rows of the dataframe.\n",
    "\n",
    "The simplest index is the range index but there are more complex ones like interval index, datetime index and multi index.\n",
    "\n",
    "We will explore indexes more in depth during the course of this lecture."
   ]
  },
  {
   "cell_type": "code",
   "execution_count": null,
   "metadata": {
    "id": "6_Fzxp3VkOjL",
    "slideshow": {
     "slide_type": "subslide"
    }
   },
   "outputs": [],
   "source": [
    "print(df.columns)\n",
    "print(df.index)"
   ]
  },
  {
   "cell_type": "markdown",
   "metadata": {
    "id": "eufnrS7HkOjQ",
    "slideshow": {
     "slide_type": "subslide"
    }
   },
   "source": [
    "#### Select a column by name in 2 different ways\n",
    "\n",
    "These two ways are equivalent and can be used interchangeably almost always.\n",
    "\n",
    "The primary exception is when the name of the column contains spaces. If for example we had a column called \"weekly sales\" we have to use df['weekly sales'] because `df.weekly sales` is a syntactic error."
   ]
  },
  {
   "cell_type": "code",
   "execution_count": null,
   "metadata": {
    "id": "VoZhc6lRkOjR",
    "slideshow": {
     "slide_type": "subslide"
    }
   },
   "outputs": [],
   "source": [
    "print(df['name'])\n",
    "print(df.name)"
   ]
  },
  {
   "cell_type": "markdown",
   "metadata": {
    "id": "jJZ9IfaskOjX",
    "slideshow": {
     "slide_type": "subslide"
    }
   },
   "source": [
    "#### Select multiple columns\n",
    "\n",
    "To select multiple columns we use `df[columns_to_select]` where `columns_to_select` are the columns we are interested in given as a simple python list. As the result we will get another data frame.\n",
    "\n",
    "This is the equivalent of listing columns names in `SELECT` part of a sql query."
   ]
  },
  {
   "cell_type": "code",
   "execution_count": null,
   "metadata": {
    "id": "FkVfaB75kOjY",
    "slideshow": {
     "slide_type": "subslide"
    }
   },
   "outputs": [],
   "source": [
    "df[['name','pet']]"
   ]
  },
  {
   "cell_type": "markdown",
   "metadata": {
    "id": "OE9TSPbIkOja",
    "slideshow": {
     "slide_type": "subslide"
    }
   },
   "source": [
    "#### Select a row by index\n",
    "\n",
    "Regular selection of rows goes via its index. In this case, the index is similar to the indexing in Numpy. When using range indices we can access rows using integer indices but this will not work when using datetime index for example.\n",
    "\n",
    "We can always access any row in the dataframe using `.iloc[i]` for some integer i.\n",
    "\n",
    "The result is a series object from which we can access values by using column indexing."
   ]
  },
  {
   "cell_type": "code",
   "execution_count": null,
   "metadata": {
    "id": "bcAzbzTqkOjb",
    "slideshow": {
     "slide_type": "subslide"
    }
   },
   "outputs": [],
   "source": [
    "df.iloc[0]"
   ]
  },
  {
   "cell_type": "markdown",
   "metadata": {
    "id": "i3Te1iN8kOje",
    "slideshow": {
     "slide_type": "slide"
    }
   },
   "source": [
    "### Sort Function\n",
    "\n",
    "- pandas.pydata.org\n",
    "- https://pandas.pydata.org/pandas-docs/stable/generated/pandas.DataFrame.sort_values.html"
   ]
  },
  {
   "cell_type": "markdown",
   "metadata": {
    "id": "nuHk1Tv9kOjf",
    "slideshow": {
     "slide_type": "subslide"
    }
   },
   "source": [
    "#### Sort the data by pet\n",
    "\n",
    "There are two ways to sort.\n",
    "- By index\n",
    "- By value\n",
    "\n",
    "By value means sorting according to value in a column.\n",
    "\n",
    "In this example we sort the rows of the dataframe based on values in 'pet' column."
   ]
  },
  {
   "cell_type": "markdown",
   "metadata": {
    "slideshow": {
     "slide_type": "subslide"
    }
   },
   "source": [
    "The parameter `ascending = True` means that we want the rows sorted in ascending order (from 'a' to 'z' for strings). To get descending order use `ascending = False`.\n",
    "\n",
    "`inplace=True` changes the dataframe in place, it's modified, which means that **no copies** (for large dataframes, 100'000+ and many operations, this _may_ becomes a bottleneck, but usually, this is not a concern!) are made and your previous data stored in the dataframe is **lost**. By default inplace is always False. When it is false a copy is made of your data and that copy is sorted and returned as output."
   ]
  },
  {
   "cell_type": "code",
   "execution_count": null,
   "metadata": {
    "id": "ps41Q076kOjj",
    "slideshow": {
     "slide_type": "subslide"
    }
   },
   "outputs": [],
   "source": [
    "dfsorted = df.sort_values('pet', ascending=True)\n",
    "print(dfsorted)"
   ]
  },
  {
   "cell_type": "markdown",
   "metadata": {
    "id": "j6l52q0UkOjn",
    "slideshow": {
     "slide_type": "slide"
    }
   },
   "source": [
    "### Indexing with DataFrames\n",
    "\n",
    "Everything we discussed about indexing in numpy arrays applies to dataframes as well.\n",
    "\n",
    "DataFrames are very similar to 2d-arrays with the main exception being that in DataFrames you can index using strings (column names)."
   ]
  },
  {
   "cell_type": "markdown",
   "metadata": {
    "id": "_fe-5qLBkOjn",
    "slideshow": {
     "slide_type": "subslide"
    }
   },
   "source": [
    "#### View the index after the sort"
   ]
  },
  {
   "cell_type": "code",
   "execution_count": null,
   "metadata": {
    "id": "4gvrRF4skOjp",
    "slideshow": {
     "slide_type": "subslide"
    }
   },
   "outputs": [],
   "source": [
    "print(dfsorted)"
   ]
  },
  {
   "cell_type": "markdown",
   "metadata": {
    "id": "RVNBwy34kOjv",
    "slideshow": {
     "slide_type": "subslide"
    }
   },
   "source": [
    "#### Difference between loc and iloc\n",
    "\n",
    "- `.loc` selection is based on the value of the index. For example if the index was categorical we could index via some category.\n",
    "- `.iloc` selection is **always** based on integer positions. When using iloc we are treating the dataframe as 2d-array with no special structure compared to the case of `.loc`"
   ]
  },
  {
   "cell_type": "code",
   "execution_count": null,
   "metadata": {
    "id": "N5YSm2zskOjw",
    "slideshow": {
     "slide_type": "subslide"
    }
   },
   "outputs": [],
   "source": [
    "df.loc[5] #index based (remember? we used [5, 6, 7] as the (arbitrary) indices for the dataframe"
   ]
  },
  {
   "cell_type": "code",
   "execution_count": null,
   "metadata": {
    "id": "ZHQ5U2QEPziO",
    "slideshow": {
     "slide_type": "subslide"
    }
   },
   "outputs": [],
   "source": [
    "df.iloc[0] #relative position based indexing"
   ]
  },
  {
   "cell_type": "markdown",
   "metadata": {
    "id": "DKYsBGgVkOjx",
    "slideshow": {
     "slide_type": "skip"
    }
   },
   "source": [
    "#### Use iloc to select all rows of a column\n",
    "\n",
    "This will select all rows of the second column.\n",
    "\n",
    "Remember `:` = `::1`\n",
    "\n",
    "First index is always row and second is always column when dealing with dataframes."
   ]
  },
  {
   "cell_type": "code",
   "execution_count": null,
   "metadata": {
    "id": "8HXvbEcMkOjy",
    "slideshow": {
     "slide_type": "skip"
    }
   },
   "outputs": [],
   "source": [
    "df.iloc[:,2]"
   ]
  },
  {
   "cell_type": "markdown",
   "metadata": {
    "id": "klUlSe3skOj5",
    "slideshow": {
     "slide_type": "skip"
    }
   },
   "source": [
    "#### Use iloc to select the last row"
   ]
  },
  {
   "cell_type": "code",
   "execution_count": null,
   "metadata": {
    "id": "Dpw15V8lkOj6",
    "slideshow": {
     "slide_type": "skip"
    }
   },
   "outputs": [],
   "source": [
    "df.iloc[-1,:]"
   ]
  },
  {
   "cell_type": "markdown",
   "metadata": {
    "id": "9-drG9U3TwNB",
    "slideshow": {
     "slide_type": "slide"
    }
   },
   "source": [
    "## Basic Pandas Concept Exercises"
   ]
  },
  {
   "cell_type": "code",
   "execution_count": null,
   "metadata": {
    "id": "cHHUFbLFTwM9",
    "slideshow": {
     "slide_type": "subslide"
    }
   },
   "outputs": [],
   "source": [
    "sales = [100,130,119,92,35]\n",
    "cost = [77, 45, 87, 69, 102]\n",
    "customer_account = ['B100','J101','X102','P103','R104']\n",
    "city = ['BOS','LA','NYC','SF','CHI']"
   ]
  },
  {
   "cell_type": "markdown",
   "metadata": {
    "id": "0VhkInt6TwM8",
    "slideshow": {
     "slide_type": "subslide"
    }
   },
   "source": [
    "#### Create a DataFrame with the data above\n"
   ]
  },
  {
   "cell_type": "code",
   "execution_count": null,
   "metadata": {
    "id": "nzUWpWS-TwM6",
    "slideshow": {
     "slide_type": "subslide"
    }
   },
   "outputs": [],
   "source": [
    "df = pd.DataFrame({'sales': sales, 'customer_account': customer_account, 'city': city, 'cost': cost})\n",
    "print(df)"
   ]
  },
  {
   "cell_type": "markdown",
   "metadata": {
    "id": "tmYB4B32TwMy",
    "slideshow": {
     "slide_type": "subslide"
    }
   },
   "source": [
    "#### What is the name of the first column?"
   ]
  },
  {
   "cell_type": "code",
   "execution_count": null,
   "metadata": {
    "id": "5Rogy8ehTwMn",
    "slideshow": {
     "slide_type": "subslide"
    }
   },
   "outputs": [],
   "source": [
    "df.columns[0]"
   ]
  },
  {
   "cell_type": "markdown",
   "metadata": {
    "id": "_SA2hdsLTwMl",
    "slideshow": {
     "slide_type": "subslide"
    }
   },
   "source": [
    "#### Sort the DataFrame by city in descending order"
   ]
  },
  {
   "cell_type": "code",
   "execution_count": null,
   "metadata": {
    "id": "qpE0t45cTwMY",
    "slideshow": {
     "slide_type": "subslide"
    }
   },
   "outputs": [],
   "source": [
    "dfsorted = df.sort_values(by='city', ascending=False)\n",
    "print(dfsorted)"
   ]
  },
  {
   "cell_type": "markdown",
   "metadata": {
    "id": "tY7HNEUDTwMW",
    "slideshow": {
     "slide_type": "subslide"
    }
   },
   "source": [
    "#### Which customer is in the last row of the DataFrame?"
   ]
  },
  {
   "cell_type": "code",
   "execution_count": null,
   "metadata": {
    "id": "GWlpTsEYTwL8",
    "slideshow": {
     "slide_type": "subslide"
    }
   },
   "outputs": [],
   "source": [
    "lastdf = df.iloc[-1]\n",
    "print(lastdf)\n",
    "print(f\"Last customer account: {lastdf['customer_account']}\")"
   ]
  },
  {
   "cell_type": "markdown",
   "metadata": {
    "id": "EPMQ69METwLz",
    "slideshow": {
     "slide_type": "subslide"
    }
   },
   "source": [
    "#### Reorder the columns with customer in the first column"
   ]
  },
  {
   "cell_type": "code",
   "execution_count": null,
   "metadata": {
    "id": "ElacSbWiTwLk",
    "slideshow": {
     "slide_type": "subslide"
    }
   },
   "outputs": [],
   "source": [
    "dfreorder = df[['customer_account', 'city', 'sales', 'cost']]\n",
    "print(dfreorder)"
   ]
  },
  {
   "cell_type": "markdown",
   "metadata": {
    "slideshow": {
     "slide_type": "slide"
    }
   },
   "source": [
    "## Visualization\n",
    "\n",
    "Before we work with the data, we'll cover a few useful methods for visualization, `plot` and `hist`. Both are a thin wrapper anround matplotlibs functions and simply provide a shortcut.\n",
    "\n",
    "They have the same API (Application Programming Interface, _i.e._ the name of the arguments, what they do etc.) but allow, instead of passing the array to plot, just the string of the column for plotting."
   ]
  },
  {
   "cell_type": "code",
   "execution_count": null,
   "metadata": {
    "slideshow": {
     "slide_type": "subslide"
    }
   },
   "outputs": [],
   "source": [
    "# first sort by cost, then plot\n",
    "plt.figure()\n",
    "df.sort_values(by='cost', ascending=True).plot('cost', 'sales')  # and any other arguments that plot takes"
   ]
  },
  {
   "cell_type": "code",
   "execution_count": null,
   "metadata": {
    "slideshow": {
     "slide_type": "subslide"
    }
   },
   "outputs": [],
   "source": [
    "plt.figure()\n",
    "df.hist('cost', bins=5)  # and any other argument that plt.hist takes"
   ]
  },
  {
   "cell_type": "markdown",
   "metadata": {
    "id": "Uf9o8d3hFYVu",
    "slideshow": {
     "slide_type": "slide"
    }
   },
   "source": [
    "## Basic Pandas Functionality\n",
    "\n",
    "Let's take a look at what Pandas can do.\n",
    "\n"
   ]
  },
  {
   "cell_type": "code",
   "execution_count": null,
   "metadata": {
    "slideshow": {
     "slide_type": "subslide"
    }
   },
   "outputs": [],
   "source": [
    "import seaborn as sns\n",
    "\n",
    "data = sns.load_dataset('titanic')"
   ]
  },
  {
   "cell_type": "markdown",
   "metadata": {
    "id": "Wc348x0wkOkj",
    "slideshow": {
     "slide_type": "subslide"
    }
   },
   "source": [
    "#### Investigate the first few rows of data\n",
    "\n",
    "The `head` method by default prints the first 5 rows of your dataframe.\n",
    "\n",
    "If you pass it a parameter `n` it will print first `n` rows.\n",
    "\n",
    "The docs are [here](https://pandas.pydata.org/pandas-docs/stable/generated/pandas.DataFrame.head.html)"
   ]
  },
  {
   "cell_type": "code",
   "execution_count": null,
   "metadata": {
    "id": "KX2i7qypkOkk",
    "slideshow": {
     "slide_type": "subslide"
    }
   },
   "outputs": [],
   "source": [
    "data.head()"
   ]
  },
  {
   "cell_type": "markdown",
   "metadata": {
    "id": "L3A2aM_OkOkn",
    "slideshow": {
     "slide_type": "subslide"
    }
   },
   "source": [
    "#### Investigate the last 10 rows of data\n",
    "\n",
    "tail is similar to head except it prints the last `n` rows."
   ]
  },
  {
   "cell_type": "code",
   "execution_count": null,
   "metadata": {
    "id": "evveblFBkOko",
    "slideshow": {
     "slide_type": "subslide"
    }
   },
   "outputs": [],
   "source": [
    "data.tail(10)"
   ]
  },
  {
   "cell_type": "markdown",
   "metadata": {
    "id": "R1_Rf_HRkOkp",
    "slideshow": {
     "slide_type": "subslide"
    }
   },
   "source": [
    "#### Investigate the data types in the DataFrame\n",
    "\n",
    "This method will tell you the types of columns.\n",
    "\n",
    "Types are automatically inferred by pandas and usually you do not have to worry about them.\n",
    "\n",
    "[docs](https://pandas.pydata.org/pandas-docs/stable/generated/pandas.DataFrame.info.html)"
   ]
  },
  {
   "cell_type": "code",
   "execution_count": null,
   "metadata": {
    "id": "AbWxmxxfkOkr",
    "slideshow": {
     "slide_type": "subslide"
    }
   },
   "outputs": [],
   "source": [
    "data.info()"
   ]
  },
  {
   "cell_type": "markdown",
   "metadata": {
    "id": "Lxk64a-PkOkv",
    "slideshow": {
     "slide_type": "subslide"
    }
   },
   "source": [
    "#### Get some summary statistics\n",
    "\n",
    "To learn more about describe visit [this link](https://pandas.pydata.org/pandas-docs/stable/generated/pandas.DataFrame.describe.html)"
   ]
  },
  {
   "cell_type": "code",
   "execution_count": null,
   "metadata": {
    "id": "I6-BVDGfkOkw",
    "slideshow": {
     "slide_type": "subslide"
    }
   },
   "outputs": [],
   "source": [
    "data.describe().T"
   ]
  },
  {
   "cell_type": "markdown",
   "metadata": {
    "id": "JozHv-DpQpWs",
    "slideshow": {
     "slide_type": "slide"
    }
   },
   "source": [
    "### Filtering Dataframes\n",
    "\n",
    "You can filter data based on the columns and values in the dataframe"
   ]
  },
  {
   "cell_type": "markdown",
   "metadata": {
    "id": "tUVmtIaNkOk1",
    "slideshow": {
     "slide_type": "subslide"
    }
   },
   "source": [
    "#### Filter the data for men\n",
    "\n",
    "There are two pieces of the puzzle here:\n",
    "- `data.sex=='male'` will give a boolean array where True means that row has a column called sex which has value 'male'. This numpy array is called the predicate.\n",
    "- data[data.sex=='male'] will give back all rows for which the predicate holds true.\n",
    "\n",
    "The result of this filter is a dataframe with same columns as the input dataframe."
   ]
  },
  {
   "cell_type": "code",
   "execution_count": null,
   "metadata": {
    "id": "jO39tJlRkOk1",
    "slideshow": {
     "slide_type": "subslide"
    }
   },
   "outputs": [],
   "source": [
    "data[data.sex=='male']"
   ]
  },
  {
   "cell_type": "markdown",
   "metadata": {
    "id": "V2lw4cU7kOk6",
    "slideshow": {
     "slide_type": "subslide"
    }
   },
   "source": [
    "#### Filter the ages for the men\n",
    "\n",
    "Again there are two important parts:\n",
    "- `data.sex=='male'` is the predicate as before\n",
    "- `data.age` means taking the values for the age column, and `data.age[data.sex=='male']` means taking all ages which are related to male rows.\n",
    "\n",
    "The result of this is pandas series **not** a dataframe."
   ]
  },
  {
   "cell_type": "code",
   "execution_count": null,
   "metadata": {
    "id": "VYV0OiujkOk7",
    "slideshow": {
     "slide_type": "subslide"
    }
   },
   "outputs": [],
   "source": [
    "data.age[data.sex=='male']"
   ]
  },
  {
   "cell_type": "markdown",
   "metadata": {
    "id": "1_jDkPD5Q3_l",
    "slideshow": {
     "slide_type": "slide"
    }
   },
   "source": [
    "### Adding methods to filters\n",
    "\n",
    "A method is a function and is used frequently when analyzing data in Pandas. There are countless Pandas methods. We'll go over a few of the basic ones to show how you can use methods to quickly analyze your data."
   ]
  },
  {
   "cell_type": "markdown",
   "metadata": {
    "id": "aLld3-3okOk9",
    "slideshow": {
     "slide_type": "subslide"
    }
   },
   "source": [
    "#### How many men and women were on the Titanic?\n",
    "\n",
    "The pipeline always goes the same way\n",
    "- Predicate is evalatued\n",
    "- Data is filtered according to a predicate\n",
    "- An aggregate value is computed after the filtering.\n",
    "\n",
    "The count method simply counts the number of frames in the dataframe."
   ]
  },
  {
   "cell_type": "code",
   "execution_count": null,
   "metadata": {
    "id": "gEibC0_-kOk-",
    "slideshow": {
     "slide_type": "subslide"
    }
   },
   "outputs": [],
   "source": [
    "data.sex[data.sex=='male'].count()\n"
   ]
  },
  {
   "cell_type": "code",
   "execution_count": null,
   "metadata": {
    "id": "-XUzMAjlQzze",
    "slideshow": {
     "slide_type": "subslide"
    }
   },
   "outputs": [],
   "source": [
    "data.sex[data.sex=='female'].count()"
   ]
  },
  {
   "cell_type": "markdown",
   "metadata": {
    "id": "H5WWIEcBkOlA",
    "slideshow": {
     "slide_type": "subslide"
    }
   },
   "source": [
    "#### What was the survival rate for adult men (age>=18)\n",
    "\n",
    "Here we combine predicates using the and operator (&).\n",
    "\n",
    "This operator applies the logical and operation between elements at matching positions.\n",
    "\n",
    "For example:\n",
    "- x = np.array([True, False, True, True])\n",
    "- y = np.array([False, True, False, True])\n",
    "- will give x & y = np.array([True & False, False & True, True & False, True & True])."
   ]
  },
  {
   "cell_type": "markdown",
   "metadata": {
    "slideshow": {
     "slide_type": "subslide"
    }
   },
   "source": [
    "\n",
    "In the following example we use the or combiner (|).\n",
    "\n",
    "You can combine any two boolean numpy arrays as long as they have the same shape using the & and | operators.\n",
    "\n",
    "Combining regular python lists this way does not work."
   ]
  },
  {
   "cell_type": "code",
   "execution_count": null,
   "metadata": {
    "id": "r36YOTFakOlB",
    "slideshow": {
     "slide_type": "subslide"
    }
   },
   "outputs": [],
   "source": [
    "data.survived[(data.sex=='male')&(data.age>=18)].mean()"
   ]
  },
  {
   "cell_type": "markdown",
   "metadata": {
    "id": "L_OdPd-TkOlL",
    "slideshow": {
     "slide_type": "subslide"
    }
   },
   "source": [
    "#### What was the survival rate for women and children?"
   ]
  },
  {
   "cell_type": "code",
   "execution_count": null,
   "metadata": {
    "id": "3-VzXk3rkOlL",
    "slideshow": {
     "slide_type": "subslide"
    }
   },
   "outputs": [],
   "source": [
    "data.survived[(data.sex=='female')|(data.age<18)].mean()"
   ]
  },
  {
   "cell_type": "markdown",
   "metadata": {
    "id": "Qr5kDLXikOlN",
    "slideshow": {
     "slide_type": "subslide"
    }
   },
   "source": [
    "#### Use groupby to compare the survival rates of men and women\n",
    "\n",
    "The `groupby` method is one of the most important tools you will use in your day to day work.\n",
    "\n",
    "It's main input parameter is either a string denoting a column name or a list of strings denoting a list of column names.\n",
    "\n",
    "It's output is a GroupBy object which is very similar to a dataframe.\n",
    "\n",
    "For more info see the [docs](https://pandas.pydata.org/pandas-docs/stable/generated/pandas.DataFrame.groupby.html)."
   ]
  },
  {
   "cell_type": "code",
   "execution_count": null,
   "metadata": {
    "id": "6HUfJ-WgkOlO",
    "slideshow": {
     "slide_type": "subslide"
    }
   },
   "outputs": [],
   "source": [
    "data.groupby('sex')['survived'].mean()"
   ]
  },
  {
   "cell_type": "markdown",
   "metadata": {
    "id": "Ffecx8ydkOlT",
    "slideshow": {
     "slide_type": "subslide"
    }
   },
   "source": [
    "#### Create a DataFrame with groupby"
   ]
  },
  {
   "cell_type": "code",
   "execution_count": null,
   "metadata": {
    "id": "EvCErNp7kOlZ",
    "slideshow": {
     "slide_type": "subslide"
    }
   },
   "outputs": [],
   "source": [
    "grouped_data = data.groupby(['sex', 'pclass'])\n",
    "new = grouped_data[['survived', 'age']].mean()\n",
    "print(new)"
   ]
  },
  {
   "cell_type": "markdown",
   "metadata": {
    "id": "vT92jcRDkOkV",
    "slideshow": {
     "slide_type": "slide"
    }
   },
   "source": [
    "## Importing and Exporting Data with Pandas\n",
    "\n",
    "#### Pandas has easy to use functions for importing and exporting different data types:\n",
    "- CSV Files\n",
    "- Excel Worksheets\n",
    "- Queries from Databases"
   ]
  },
  {
   "cell_type": "code",
   "execution_count": null,
   "metadata": {
    "slideshow": {
     "slide_type": "subslide"
    }
   },
   "outputs": [],
   "source": [
    "data.to_csv(\"titanic.csv\", index=False)  # index=False means we do not want to save the index"
   ]
  },
  {
   "cell_type": "code",
   "execution_count": null,
   "metadata": {
    "slideshow": {
     "slide_type": "skip"
    }
   },
   "outputs": [],
   "source": [
    "# data.to_parquet(\"titanic.parquet\")  # needs pyarrow or fastparquet"
   ]
  },
  {
   "cell_type": "code",
   "execution_count": null,
   "metadata": {
    "slideshow": {
     "slide_type": "subslide"
    }
   },
   "outputs": [],
   "source": [
    "newdata = pd.read_csv(\"titanic.csv\")"
   ]
  },
  {
   "cell_type": "code",
   "execution_count": null,
   "metadata": {
    "slideshow": {
     "slide_type": "subslide"
    }
   },
   "outputs": [],
   "source": [
    "newdata.head()"
   ]
  },
  {
   "cell_type": "markdown",
   "metadata": {
    "id": "le2scA1okOlj",
    "slideshow": {
     "slide_type": "skip"
    }
   },
   "source": [
    "## More Basic Pandas Exercises"
   ]
  },
  {
   "cell_type": "markdown",
   "metadata": {
    "id": "721I5B1lkOlj",
    "slideshow": {
     "slide_type": "skip"
    }
   },
   "source": [
    "#### What was the average age of the survivors?"
   ]
  },
  {
   "cell_type": "code",
   "execution_count": null,
   "metadata": {
    "id": "Z9xvt457kOlk",
    "slideshow": {
     "slide_type": "skip"
    }
   },
   "outputs": [],
   "source": []
  },
  {
   "cell_type": "markdown",
   "metadata": {
    "id": "-x5IgI-fkOl2",
    "slideshow": {
     "slide_type": "skip"
    }
   },
   "source": [
    "#### What was the combined survival rate of both children (age less than 18) and seniors (age greater than 60)?"
   ]
  },
  {
   "cell_type": "code",
   "execution_count": null,
   "metadata": {
    "id": "pgNLpPTskOl2",
    "slideshow": {
     "slide_type": "skip"
    }
   },
   "outputs": [],
   "source": []
  },
  {
   "cell_type": "markdown",
   "metadata": {
    "id": "_TSm_oFMkOl4",
    "slideshow": {
     "slide_type": "skip"
    }
   },
   "source": [
    "#### Group by pClass and investigate average survival rate, age and fare"
   ]
  },
  {
   "cell_type": "code",
   "execution_count": null,
   "metadata": {
    "id": "nS4ek1rjkOl5",
    "slideshow": {
     "slide_type": "skip"
    }
   },
   "outputs": [],
   "source": []
  },
  {
   "cell_type": "markdown",
   "metadata": {
    "id": "VAOb2EXAkOl-",
    "slideshow": {
     "slide_type": "skip"
    }
   },
   "source": [
    "#### Create a CSV with the names and ages of the surivors and another CSV file with the names and ages of the deceased. Please refer to documention (to_csv method) to complete the exercise.\n",
    "\n",
    "[Documentation for the method](https://pandas.pydata.org/pandas-docs/stable/generated/pandas.DataFrame.to_csv.html)"
   ]
  },
  {
   "cell_type": "code",
   "execution_count": null,
   "metadata": {
    "id": "EL9Px-o8kOl_",
    "slideshow": {
     "slide_type": "skip"
    }
   },
   "outputs": [],
   "source": []
  }
 ],
 "metadata": {
  "celltoolbar": "Slideshow",
  "colab": {
   "provenance": []
  },
  "kernelspec": {
   "display_name": "Python 3 (ipykernel)",
   "language": "python",
   "name": "python3"
  },
  "language_info": {
   "codemirror_mode": {
    "name": "ipython",
    "version": 3
   },
   "file_extension": ".py",
   "mimetype": "text/x-python",
   "name": "python",
   "nbconvert_exporter": "python",
   "pygments_lexer": "ipython3",
   "version": "3.11.9"
  }
 },
 "nbformat": 4,
 "nbformat_minor": 4
}
